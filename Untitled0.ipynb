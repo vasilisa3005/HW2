{
  "nbformat": 4,
  "nbformat_minor": 0,
  "metadata": {
    "colab": {
      "provenance": []
    },
    "kernelspec": {
      "name": "python3",
      "display_name": "Python 3"
    },
    "language_info": {
      "name": "python"
    }
  },
  "cells": [
    {
      "cell_type": "code",
      "execution_count": null,
      "metadata": {
        "id": "DbQl7zz0ZglQ"
      },
      "outputs": [],
      "source": [
        "   import math\n",
        "class Tunnel:\n",
        "    def __init__(self, start_point, end_point):\n",
        "        self.start_point = start_point\n",
        "        self.end_point = end_point\n",
        "    def length_tunnel(self):\n",
        "        math.sqrt((self.start_point(0)- self.end_point(0))^2 + (self.start_point(1)- self.end_point(1))^2 + (self.start_point(2)- self.end_point(2))^2)\n",
        "        return\n",
        "\n",
        "class Path:\n",
        "    def __init__(self, tunnels):\n",
        "        self.tunnels = tunnels\n",
        "    def length_path(self):\n",
        "        sum = 0\n",
        "        for t in self.tunnels:\n",
        "          sum += t.length_tunnel()\n",
        "        return sum\n",
        "\n",
        "class Machine:\n",
        "    def __init__(self, id, coordinates, status, path):\n",
        "        self.id = id\n",
        "        self.coordinates = coordinates\n",
        "        self.status = status\n",
        "        self.path = path\n",
        "\n",
        "    def move(self):\n",
        "        pass\n",
        "\n",
        "class DrillingMachine(Machine):\n",
        "    def __init__(self, id, coordinates, status, path):\n",
        "        super().__init__(id, coordinates, status, path)\n",
        "        self.purpose = \"rock drilling\"\n",
        "\n",
        "class MappingMachine(Machine):\n",
        "    def __init__(self, id, coordinates, status, path):\n",
        "        super().__init__(id, coordinates, status, path)\n",
        "        self.purpose = \"map surveying\"\n",
        "\n",
        "class SupportInspectionMachine(Machine):\n",
        "    def __init__(self, id, coordinates, status, path):\n",
        "        super().__init__(id, coordinates, status, path)\n",
        "        self.purpose = \"inspect supports\"\n",
        "        self.support_wear = 0.0\n",
        "\n",
        "class Controller:\n",
        "    def send_machine(self, machine):\n",
        "        pass\n",
        "\n",
        "    def send_for_repair(self, machine):\n",
        "        pass\n",
        "\n",
        "class Gallery:\n",
        "    def __init__(self, length, tunnels):\n",
        "        self.length = length\n",
        "        self.tunnels = tunnels"
      ]
    }
  ]
}